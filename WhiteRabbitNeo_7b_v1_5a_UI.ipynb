{
  "nbformat": 4,
  "nbformat_minor": 0,
  "metadata": {
    "colab": {
      "provenance": [],
      "gpuType": "T4",
      "include_colab_link": true
    },
    "kernelspec": {
      "name": "python3",
      "display_name": "Python 3"
    },
    "language_info": {
      "name": "python"
    },
    "accelerator": "GPU"
  },
  "cells": [
    {
      "cell_type": "markdown",
      "metadata": {
        "id": "view-in-github",
        "colab_type": "text"
      },
      "source": [
        "<a href=\"https://colab.research.google.com/github/Nick088Official/WhiteRabbitNeo-7b-v1.5a-Google-Colab/blob/main/WhiteRabbitNeo_7b_v1_5a_UI.ipynb\" target=\"_parent\"><img src=\"https://colab.research.google.com/assets/colab-badge.svg\" alt=\"Open In Colab\"/></a>"
      ]
    },
    {
      "cell_type": "markdown",
      "source": [
        "# WhiteRabbitNeo-7b-v1.5a AI Model WEB UI\n",
        "\n",
        "Model Used: https://huggingface.co/WhiteRabbitNeo/WhiteRabbitNeo-7B-v1.5a\n",
        "\n",
        "Google Colab Made by [Nick088](https://linktr.ee/nick088)"
      ],
      "metadata": {
        "id": "2Gry2XWN2Ct1"
      }
    },
    {
      "cell_type": "code",
      "execution_count": null,
      "metadata": {
        "id": "NustQ8QOsMFF",
        "cellView": "form"
      },
      "outputs": [],
      "source": [
        "#@title Install & Load Dependencies, Model\n",
        "\n",
        "#@markdown Use GPU (faster, max 12 free hours daily limit): Set the Video Card from Edit -> Notebook Settings -> T4 GPU OR Any other GPUs based on your Google Colab Subscription\n",
        "\n",
        "!pip install einops\n",
        "!pip install accelerate\n",
        "!pip install huggingface_hub\n",
        "import torch\n",
        "from huggingface_hub import login\n",
        "from IPython.display import clear_output\n",
        "\n",
        "if torch.cuda.is_available():\n",
        "    device = \"cuda\"\n",
        "    print(\"Using GPU\")\n",
        "else:\n",
        "    device = \"cpu\"\n",
        "    print(\"Using CPU\")\n",
        "\n",
        "# Now you can use 'device' for your PyTorch operations\n",
        "\n",
        "torch.set_default_device(device)\n",
        "\n",
        "#@markdown The normal version is the official one (PAID GPU REQUIRED), the other ones are GGUF quantized, compressed to consume less ram, see more info about them in the [Hugging Face repo of WhiteRabbitNeo-7b-v1.5a GGUF](https://huggingface.co/bartowski/WhiteRabbitNeo-7B-v1.5a-GGUF)\n",
        "\n",
        "whiterabbitneo_model_version = \"Q2_K\" #@param ['normal', 'Q2_K', 'Q3_K_S', 'Q3_K_M', 'Q3_K_L', 'Q4_0', 'Q4_K_M', 'Q4_K_S', 'Q5_0', 'Q5_K_S', 'Q5_K_M', 'Q6_K', 'Q8_0']\n",
        "\n",
        "#@markdown Only for the normal version: Go to https://huggingface.co/settings/tokens and make a token with the read role, and paste it here.\n",
        "Hugging_Face_Read_Token = \"\" #@param {type:\"string\"}\n",
        "\n",
        "# Authenticate\n",
        "login(token=Hugging_Face_Read_Token)\n",
        "\n",
        "if whiterabbitneo_model_version == \"normal\":\n",
        "  from transformers import AutoModelForCausalLM, AutoTokenizer\n",
        "  model = AutoModelForCausalLM.from_pretrained(\"WhiteRabbitNeo/WhiteRabbitNeo-7B-v1.5a\", torch_dtype=\"auto\", trust_remote_code=True)\n",
        "  tokenizer = AutoTokenizer.from_pretrained(\"WhiteRabbitNeo/WhiteRabbitNeo-7B-v1.5a\", trust_remote_code=True)\n",
        "else:\n",
        "  if device == \"cuda\":\n",
        "    !CMAKE_ARGS=\"-DLLAMA_CUBLAS=on\" pip install llama-cpp-python\n",
        "  else:\n",
        "    !pip install llama-cpp-python\n",
        "  from huggingface_hub import hf_hub_download\n",
        "  from llama_cpp import Llama\n",
        "  model_name = \"bartowski/WhiteRabbitNeo-7B-v1.5a-GGUF\"\n",
        "  model_file = f\"WhiteRabbitNeo-7B-v1.5a-{whiterabbitneo_model_version}.gguf\"\n",
        "  model_path = hf_hub_download(model_name,\n",
        "                               filename=model_file,\n",
        "                               local_dir='/content')\n",
        "  from llama_cpp import Llama\n",
        "  llm = Llama(model_path=model_path,\n",
        "            n_gpu_layers=-1)\n",
        "\n",
        "clear_output()\n",
        "print(f\"Done downloading WhiteRabbitNeo-7b {whiterabbitneo_model_version}!\")"
      ]
    },
    {
      "cell_type": "code",
      "source": [
        "#@title Run UI\n",
        "\n",
        "def answer(user_prompt, system_prompt, max_new_tokens, repetition_penalty):\n",
        "  if whiterabbitneo_model_version == \"normal\":\n",
        "    # Concatenate system and user prompts\n",
        "    full_prompt = system_prompt + user_prompt\n",
        "\n",
        "    # Tokenize the combined prompt\n",
        "    inputs = tokenizer(full_prompt, return_tensors=\"pt\", return_attention_mask=False)\n",
        "\n",
        "    # Generate text based on the combined prompt and additional inputs\n",
        "    outputs = model.generate(\n",
        "        **inputs,\n",
        "        max_new_tokens=max_new_tokens,\n",
        "        repetition_penalty=repetition_penalty\n",
        "    )\n",
        "\n",
        "    # Extract the generated text from the model output\n",
        "    text = tokenizer.batch_decode(outputs)[0]\n",
        "    text = text[len(system_prompt):].strip()\n",
        "    return text\n",
        "  else:\n",
        "    response = llm(full_prompt, max_tokens=max_new_tokens, repeat_penalty=repetition_penalty)\n",
        "    response = response['choices'][0]['text']\n",
        "    return response\n",
        "\n",
        "# Define the gradio interface\n",
        "interface = gr.Interface(\n",
        "    fn=answer,\n",
        "    inputs=[\n",
        "        gr.Textbox(lines=2, label=\"Your Prompt\"),\n",
        "        gr.Textbox(lines=2, label=\"System Prompt\"),\n",
        "        gr.Slider(value=3000, minimum=256, maximum=8192, step=1, interactive=True, label=\"Max Tokens\"),\n",
        "        gr.Slider(value=1.2, minimum=0.0, maximum=2.0, step=0.1, interactive=True, label=\"Repetition Penalty\"),\n",
        "    ],\n",
        "    outputs=\"text\",\n",
        "    title=f\" WhiteRabbitNeo 7b v1.5a {whiterabbitneo_model_version}\",\n",
        ")\n",
        "\n",
        "\n",
        "# Launch the gradio interface\n",
        "interface.launch(share=True, debug=True)"
      ],
      "metadata": {
        "cellView": "form",
        "id": "SIr148n9gStj"
      },
      "execution_count": null,
      "outputs": []
    }
  ]
}